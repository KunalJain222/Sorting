{
  "nbformat": 4,
  "nbformat_minor": 0,
  "metadata": {
    "colab": {
      "provenance": [],
      "authorship_tag": "ABX9TyP96E0xrVndGkXMFzqpSGj1",
      "include_colab_link": true
    },
    "kernelspec": {
      "name": "python3",
      "display_name": "Python 3"
    },
    "language_info": {
      "name": "python"
    }
  },
  "cells": [
    {
      "cell_type": "markdown",
      "metadata": {
        "id": "view-in-github",
        "colab_type": "text"
      },
      "source": [
        "<a href=\"https://colab.research.google.com/github/KunalJain222/Sorting/blob/main/Quick_Sort.ipynb\" target=\"_parent\"><img src=\"https://colab.research.google.com/assets/colab-badge.svg\" alt=\"Open In Colab\"/></a>"
      ]
    },
    {
      "cell_type": "markdown",
      "source": [
        "**Quick_sort**:  \n",
        "Step-By-Step  \n",
        "🔹 Step 1: Choose a Pivot\n",
        "Select any element as the pivot (commonly the first element).\n",
        "\n",
        "🔹 Step 2: Partition the Array\n",
        "Rearrange elements so that:  \n",
        "\n",
        "-> Elements less than pivot go to the left\n",
        "\n",
        "-> Elements greater than pivot go to the right\n",
        "\n",
        "Place pivot in its correct sorted position\n",
        "\n",
        "🔹 Step 3: Recursively Apply Quick Sort\n",
        "Apply the same steps to:\n",
        "\n",
        "-> Left sub-array (before pivot)\n",
        "\n",
        "-> Right sub-array (after pivot)\n",
        "\n",
        "🔹 Step 4: Base Case\n",
        "If the sub-array has 0 or 1 element, return (already sorted)\n"
      ],
      "metadata": {
        "id": "ER6YiCaEcdgh"
      }
    },
    {
      "cell_type": "markdown",
      "source": [
        "For Example:  \n",
        "```\n",
        "Initial array: [8, 4, 7, 3, 10, 2]\n",
        "\n",
        "```\n",
        "\n"
      ],
      "metadata": {
        "id": "Yh7IVi3bhRPs"
      }
    },
    {
      "cell_type": "markdown",
      "source": [
        "\n",
        "\n",
        "🔽 Step 1: Pivot = 8 (first element)\n",
        "\n"
      ],
      "metadata": {
        "id": "52CgRR4ChmKo"
      }
    },
    {
      "cell_type": "markdown",
      "source": [
        "\n",
        "\n",
        "\n",
        "```\n",
        "Pivot: 8\n",
        "Compare and partition:\n",
        "[4, 7, 3, 2] | 8 | [10]\n",
        "\n",
        "After partitioning:\n",
        "[4, 7, 3, 2, 8, 10]\n",
        "                 ↑ pivot at index 4\n",
        "\n",
        "```\n",
        "\n",
        "\n",
        "\n"
      ],
      "metadata": {
        "id": "ld8Nd0zfhVAV"
      }
    },
    {
      "cell_type": "markdown",
      "source": [
        "🔽 Step 2: Recur on Left Side: [4, 7, 3, 2]  \n",
        "Pivot = 4"
      ],
      "metadata": {
        "id": "oRhkyVaVh8O4"
      }
    },
    {
      "cell_type": "markdown",
      "source": [
        "\n",
        "\n",
        "```\n",
        "Pivot: 4\n",
        "Compare and partition:\n",
        "[3, 2] | 4 | [7]\n",
        "\n",
        "After partitioning:\n",
        "[3, 2, 4, 7, 8, 10]\n",
        "           ↑ pivot at index 2\n",
        "\n",
        "```\n",
        "\n"
      ],
      "metadata": {
        "id": "BsApvdd7h_i2"
      }
    },
    {
      "cell_type": "markdown",
      "source": [
        "🔽 Step 3: Recur on Left Side: [3, 2]  \n",
        "Pivot = 3"
      ],
      "metadata": {
        "id": "FjlfUQLNiIkh"
      }
    },
    {
      "cell_type": "markdown",
      "source": [
        "\n",
        "\n",
        "```\n",
        "Pivot: 3\n",
        "Compare and partition:\n",
        "[2] | 3 | []\n",
        "\n",
        "After partitioning:\n",
        "[2, 3, 4, 7, 8, 10]\n",
        "       ↑ pivot at index 1\n",
        "\n",
        "```\n",
        "\n"
      ],
      "metadata": {
        "id": "_OUh7WG4iOSU"
      }
    },
    {
      "cell_type": "markdown",
      "source": [
        "🔽 Step 4: Recur on Right Side: [7]"
      ],
      "metadata": {
        "id": "GSPIji5eic5_"
      }
    },
    {
      "cell_type": "markdown",
      "source": [
        "Only one element → Already sorted ✅"
      ],
      "metadata": {
        "id": "c79GZPDcii9p"
      }
    },
    {
      "cell_type": "markdown",
      "source": [
        "code 👇"
      ],
      "metadata": {
        "id": "tGDZkMWigrgQ"
      }
    },
    {
      "cell_type": "code",
      "execution_count": 1,
      "metadata": {
        "colab": {
          "base_uri": "https://localhost:8080/"
        },
        "id": "KMYEq_enb_Gx",
        "outputId": "a6b19285-baa9-4873-c347-8ec16456623f"
      },
      "outputs": [
        {
          "output_type": "stream",
          "name": "stdout",
          "text": [
            "[9, 18, 48, 51, 62, 71]\n"
          ]
        }
      ],
      "source": [
        "def partition(arr, low, high):\n",
        "    pivot = arr[low]\n",
        "    i = low\n",
        "    j = high\n",
        "    while True:\n",
        "        while arr[i] < pivot:\n",
        "            i += 1\n",
        "        while arr[j] > pivot:\n",
        "            j -= 1\n",
        "        if i>=j:\n",
        "            return j\n",
        "        arr[i], arr[j] = arr[j], arr[i]\n",
        "def qs(arr, low, high):\n",
        "    if low < high:\n",
        "        pIndex = partition(arr, low, high)\n",
        "        qs(arr, low, pIndex-1)\n",
        "        qs(arr, pIndex+1, high)\n",
        "def quick_sort(arr):\n",
        "    qs(arr, 0, len(arr) - 1)\n",
        "    return arr\n",
        "\n",
        "arr = [71, 18, 9, 48, 51, 62]\n",
        "sorted_arr = quick_sort(arr)\n",
        "print(arr)"
      ]
    },
    {
      "cell_type": "markdown",
      "source": [
        "**Time Complexity**: O(N*logN), where N = size of the array."
      ],
      "metadata": {
        "id": "VbYx-tnYisik"
      }
    }
  ]
}